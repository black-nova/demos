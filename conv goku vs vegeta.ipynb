{
 "cells": [
  {
   "cell_type": "code",
   "execution_count": 1,
   "metadata": {},
   "outputs": [],
   "source": [
    "import tensorflow as tf"
   ]
  },
  {
   "cell_type": "code",
   "execution_count": 2,
   "metadata": {},
   "outputs": [],
   "source": [
    "import numpy as np\n",
    "import pandas as pd"
   ]
  },
  {
   "cell_type": "code",
   "execution_count": 3,
   "metadata": {},
   "outputs": [],
   "source": [
    "from tensorflow.keras.preprocessing.image import ImageDataGenerator"
   ]
  },
  {
   "cell_type": "code",
   "execution_count": 4,
   "metadata": {},
   "outputs": [
    {
     "name": "stdout",
     "output_type": "stream",
     "text": [
      "Found 476 images belonging to 2 classes.\n"
     ]
    }
   ],
   "source": [
    "train_datagen = ImageDataGenerator(rescale = 1./255,\n",
    "                                   shear_range = 0.2,\n",
    "                                   zoom_range = 0.2,\n",
    "                                   horizontal_flip = True)\n",
    "training_set = train_datagen.flow_from_directory('DBdataset/training_set',\n",
    "                                                 target_size = (50, 50),\n",
    "                                                 batch_size = 32,\n",
    "                                                 class_mode = 'binary')"
   ]
  },
  {
   "cell_type": "code",
   "execution_count": 5,
   "metadata": {},
   "outputs": [
    {
     "name": "stdout",
     "output_type": "stream",
     "text": [
      "Found 197 images belonging to 2 classes.\n"
     ]
    }
   ],
   "source": [
    "test_datagen = ImageDataGenerator(rescale = 1./255)\n",
    "test_set = test_datagen.flow_from_directory('DBdataset/test_set',\n",
    "                                            target_size = (50, 50),\n",
    "                                            batch_size = 32,\n",
    "                                            class_mode = 'binary')"
   ]
  },
  {
   "cell_type": "code",
   "execution_count": 6,
   "metadata": {},
   "outputs": [],
   "source": [
    "from tensorflow.keras.models import Sequential\n",
    "from tensorflow.keras.layers import Dense,Conv2D,MaxPool2D,Flatten"
   ]
  },
  {
   "cell_type": "code",
   "execution_count": 7,
   "metadata": {},
   "outputs": [],
   "source": [
    "from tensorflow.keras.callbacks import EarlyStopping"
   ]
  },
  {
   "cell_type": "code",
   "execution_count": 8,
   "metadata": {},
   "outputs": [],
   "source": [
    "early_stop=EarlyStopping(monitor='val_loss',mode='min',verbose=1,patience=5)"
   ]
  },
  {
   "cell_type": "code",
   "execution_count": 9,
   "metadata": {},
   "outputs": [],
   "source": [
    "cnn=Sequential()\n",
    "# Initialising the CNN\n",
    "cnn = tf.keras.models.Sequential()\n",
    "\n",
    "# Step 1 - Convolution\n",
    "cnn.add(tf.keras.layers.Conv2D(filters=32, kernel_size=3, activation='relu', input_shape=[50, 50, 3]))\n",
    "\n",
    "# Step 2 - Pooling\n",
    "cnn.add(tf.keras.layers.MaxPool2D(pool_size=2, strides=2))\n",
    "\n",
    "# Adding a second convolutional layer\n",
    "cnn.add(tf.keras.layers.Conv2D(filters=32, kernel_size=3, activation='relu'))\n",
    "cnn.add(tf.keras.layers.MaxPool2D(pool_size=2, strides=2))\n",
    "\n",
    "# Step 3 - Flattening\n",
    "cnn.add(tf.keras.layers.Flatten())\n",
    "\n",
    "# Step 4 - Full Connection\n",
    "cnn.add(tf.keras.layers.Dense(units=128, activation='relu'))\n",
    "\n",
    "# Step 5 - Output Layer\n",
    "cnn.add(tf.keras.layers.Dense(units=1, activation='sigmoid'))\n",
    "# Part 3 - Training the CNN\n",
    "\n",
    "# Compiling the CNN\n",
    "cnn.compile(optimizer = 'adam', loss = 'binary_crossentropy', metrics = ['accuracy'])"
   ]
  },
  {
   "cell_type": "code",
   "execution_count": 10,
   "metadata": {},
   "outputs": [
    {
     "name": "stdout",
     "output_type": "stream",
     "text": [
      "Epoch 1/50\n",
      "15/15 [==============================] - 2s 131ms/step - loss: 0.7440 - accuracy: 0.5231 - val_loss: 0.6718 - val_accuracy: 0.6091\n",
      "Epoch 2/50\n",
      "15/15 [==============================] - 2s 120ms/step - loss: 0.6443 - accuracy: 0.6429 - val_loss: 0.5891 - val_accuracy: 0.7056\n",
      "Epoch 3/50\n",
      "15/15 [==============================] - 2s 120ms/step - loss: 0.5811 - accuracy: 0.6954 - val_loss: 0.5220 - val_accuracy: 0.7563\n",
      "Epoch 4/50\n",
      "15/15 [==============================] - 2s 120ms/step - loss: 0.5284 - accuracy: 0.7500 - val_loss: 0.4920 - val_accuracy: 0.7665\n",
      "Epoch 5/50\n",
      "15/15 [==============================] - 2s 120ms/step - loss: 0.5114 - accuracy: 0.7311 - val_loss: 0.5065 - val_accuracy: 0.7462\n",
      "Epoch 6/50\n",
      "15/15 [==============================] - 2s 119ms/step - loss: 0.5225 - accuracy: 0.7374 - val_loss: 0.5196 - val_accuracy: 0.7411\n",
      "Epoch 7/50\n",
      "15/15 [==============================] - 2s 120ms/step - loss: 0.5118 - accuracy: 0.7542 - val_loss: 0.4739 - val_accuracy: 0.7970\n",
      "Epoch 8/50\n",
      "15/15 [==============================] - 2s 120ms/step - loss: 0.4879 - accuracy: 0.7626 - val_loss: 0.4612 - val_accuracy: 0.7868\n",
      "Epoch 9/50\n",
      "15/15 [==============================] - 2s 137ms/step - loss: 0.4430 - accuracy: 0.7962 - val_loss: 0.5469 - val_accuracy: 0.7310\n",
      "Epoch 10/50\n",
      "15/15 [==============================] - 2s 121ms/step - loss: 0.4408 - accuracy: 0.7815 - val_loss: 0.4878 - val_accuracy: 0.7563\n",
      "Epoch 11/50\n",
      "15/15 [==============================] - 2s 125ms/step - loss: 0.4343 - accuracy: 0.8088 - val_loss: 0.5225 - val_accuracy: 0.7563\n",
      "Epoch 12/50\n",
      "15/15 [==============================] - 2s 125ms/step - loss: 0.4219 - accuracy: 0.7899 - val_loss: 0.4204 - val_accuracy: 0.8122\n",
      "Epoch 13/50\n",
      "15/15 [==============================] - 2s 122ms/step - loss: 0.4111 - accuracy: 0.8235 - val_loss: 0.4942 - val_accuracy: 0.7614\n",
      "Epoch 14/50\n",
      "15/15 [==============================] - 2s 127ms/step - loss: 0.3674 - accuracy: 0.8508 - val_loss: 0.4420 - val_accuracy: 0.7970\n",
      "Epoch 15/50\n",
      "15/15 [==============================] - 2s 124ms/step - loss: 0.3486 - accuracy: 0.8361 - val_loss: 0.5481 - val_accuracy: 0.7563\n",
      "Epoch 16/50\n",
      "15/15 [==============================] - 2s 125ms/step - loss: 0.3565 - accuracy: 0.8487 - val_loss: 0.5184 - val_accuracy: 0.7665\n",
      "Epoch 17/50\n",
      "15/15 [==============================] - 2s 122ms/step - loss: 0.3171 - accuracy: 0.8487 - val_loss: 0.4176 - val_accuracy: 0.8325\n",
      "Epoch 18/50\n",
      "15/15 [==============================] - 2s 127ms/step - loss: 0.3288 - accuracy: 0.8634 - val_loss: 0.5188 - val_accuracy: 0.7563\n",
      "Epoch 19/50\n",
      "15/15 [==============================] - 2s 121ms/step - loss: 0.2845 - accuracy: 0.8824 - val_loss: 0.4885 - val_accuracy: 0.7868\n",
      "Epoch 20/50\n",
      "15/15 [==============================] - 2s 121ms/step - loss: 0.2826 - accuracy: 0.8887 - val_loss: 0.5702 - val_accuracy: 0.7716\n",
      "Epoch 21/50\n",
      "15/15 [==============================] - 2s 121ms/step - loss: 0.2640 - accuracy: 0.8718 - val_loss: 0.5255 - val_accuracy: 0.7716\n",
      "Epoch 22/50\n",
      "15/15 [==============================] - 2s 121ms/step - loss: 0.2794 - accuracy: 0.8887 - val_loss: 0.4703 - val_accuracy: 0.8173\n",
      "Epoch 00022: early stopping\n"
     ]
    },
    {
     "data": {
      "text/plain": [
       "<tensorflow.python.keras.callbacks.History at 0x7fa8f31d52e0>"
      ]
     },
     "execution_count": 10,
     "metadata": {},
     "output_type": "execute_result"
    }
   ],
   "source": [
    "cnn.fit(x = training_set, validation_data = test_set, epochs = 50,callbacks=[early_stop])"
   ]
  },
  {
   "cell_type": "code",
   "execution_count": 11,
   "metadata": {},
   "outputs": [
    {
     "data": {
      "text/plain": [
       "<matplotlib.axes._subplots.AxesSubplot at 0x7fa8f06144c0>"
      ]
     },
     "execution_count": 11,
     "metadata": {},
     "output_type": "execute_result"
    },
    {
     "data": {
      "image/png": "[encoded data removed]",
      "text/plain": [
       "<Figure size 432x288 with 1 Axes>"
      ]
     },
     "metadata": {
      "needs_background": "light"
     },
     "output_type": "display_data"
    }
   ],
   "source": [
    "mod_losses=pd.DataFrame(cnn.history.history)\n",
    "mod_losses.plot()"
   ]
  },
  {
   "cell_type": "code",
   "execution_count": 12,
   "metadata": {},
   "outputs": [
    {
     "data": {
      "text/plain": [
       "{'goku': 0, 'vegeta': 1}"
      ]
     },
     "execution_count": 12,
     "metadata": {},
     "output_type": "execute_result"
    }
   ],
   "source": [
    "training_set.class_indices"
   ]
  },
  {
   "cell_type": "code",
   "execution_count": 13,
   "metadata": {},
   "outputs": [
    {
     "name": "stdout",
     "output_type": "stream",
     "text": [
      "goku\n"
     ]
    }
   ],
   "source": [
    "import numpy as np\n",
    "from tensorflow.keras.preprocessing import image\n",
    "test_image = image.load_img('DBdataset/pred_set/images.jpeg', target_size = (50, 50))\n",
    "test_image = image.img_to_array(test_image)\n",
    "test_image = np.expand_dims(test_image, axis = 0)\n",
    "result = cnn.predict(test_image)\n",
    "training_set.class_indices\n",
    "if result[0][0] == 1:\n",
    "  prediction = 'vegeta'\n",
    "else:\n",
    "  prediction = 'goku'\n",
    "print(prediction)"
   ]
  }
 ],
 "metadata": {
  "kernelspec": {
   "display_name": "Python 3",
   "language": "python",
   "name": "python3"
  },
  "language_info": {
   "codemirror_mode": {
    "name": "ipython",
    "version": 3
   },
   "file_extension": ".py",
   "mimetype": "text/x-python",
   "name": "python",
   "nbconvert_exporter": "python",
   "pygments_lexer": "ipython3",
   "version": "3.8.3"
  }
 },
 "nbformat": 4,
 "nbformat_minor": 4
}
